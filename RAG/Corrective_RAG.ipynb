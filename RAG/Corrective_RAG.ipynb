{
 "cells": [
  {
   "cell_type": "markdown",
   "metadata": {
    "id": "DQAS_ChJ8P-2"
   },
   "source": [
    "### Corrective RAG"
   ]
  },
  {
   "cell_type": "code",
   "execution_count": 1,
   "metadata": {
    "id": "Ff6taobO8XIJ"
   },
   "outputs": [],
   "source": [
    "from langchain.schema import Document\n",
    "from langchain_openai import OpenAIEmbeddings\n",
    "from langchain_community.vectorstores import Chroma\n",
    "from typing import List\n",
    "from typing_extensions import TypedDict\n",
    "\n",
    "from langgraph.graph import END, StateGraph, START\n",
    "from langchain.schema import Document\n",
    "from langchain_community.tools.tavily_search import TavilySearchResults\n",
    "from langchain_core.output_parsers import StrOutputParser\n",
    "\n",
    "from pydantic import BaseModel, Field\n",
    "from langchain_openai import ChatOpenAI\n",
    "from langchain_core.prompts import ChatPromptTemplate\n",
    "\n",
    "import os\n",
    "from dotenv import load_dotenv\n",
    "load_dotenv(override=True)\n",
    "\n",
    "os.environ[\"OPENAI_API_KEY\"] = os.getenv(\"OPENAI_API_KEY\")\n",
    "os.environ[\"TAVILY_API_KEY\"] = os.getenv(\"TAVILY_API_KEY\")"
   ]
  },
  {
   "cell_type": "code",
   "execution_count": 2,
   "metadata": {
    "id": "z37kdES7AMlB"
   },
   "outputs": [],
   "source": [
    "embedding_function = OpenAIEmbeddings()\n",
    "\n",
    "docs = [\n",
    "    Document(\n",
    "        page_content=\"鼎泰豐由楊秉彝與妻子賴盆妹於1958年在台北創立，最初是販售食用油的小店。1972年轉型為餐廳，以小籠包聞名。現已成為國際知名的台灣美食品牌，在全球多個國家設有分店。\",\n",
    "        metadata={\"source\": \"restaurant_history.txt\"},\n",
    "    ),\n",
    "    Document(\n",
    "        page_content=\"鼎泰豐的小籠包以18摺聞名，每個摺都代表著精湛的手藝。小籠包皮薄餡多，內有鮮美湯汁，是鼎泰豐最受歡迎的招牌菜品。每天現場手工製作，確保新鮮品質。\",\n",
    "        metadata={\"source\": \"signature_dish.txt\"},\n",
    "    ),\n",
    "    Document(\n",
    "        page_content=\"鼎泰豐菜單豐富多樣，除了招牌小籠包外，還有蝦仁燒賣、雞湯餛飩、菜肉餛飩、排骨煨麵、韭黃蝦仁、蛋炒飯等經典菜色。素食選擇包括素小籠包、素蒸餃和各式蔬菜料理。\",\n",
    "        metadata={\"source\": \"menu_items.txt\"},\n",
    "    ),\n",
    "    Document(\n",
    "        page_content=\"鼎泰豐的價格範圍適中，滿足不同消費需求。小籠包每籠（10個）約180-220元，主菜價格從250元到500元不等。套餐選擇豐富，單人套餐約500-700元，雙人套餐約1000-1500元。\",\n",
    "        metadata={\"source\": \"pricing_info.txt\"},\n",
    "    ),\n",
    "    Document(\n",
    "        page_content=\"鼎泰豐台北101旗艦店營業時間為週一至週五11:00-21:30，週六、日及國定假日10:00-21:30。其他分店可能略有不同，建議顧客查詢官網或致電確認。旺季時可能需要排隊等候。\",\n",
    "        metadata={\"source\": \"operation_hours.txt\"},\n",
    "    ),\n",
    "    Document(\n",
    "        page_content=\"鼎泰豐重視食材品質和衛生標準。所有食材每日新鮮配送，嚴格控管儲存溫度。廚房採用開放式設計，顧客可以直接觀看廚師製作過程，體現透明化的製作流程。\",\n",
    "        metadata={\"source\": \"quality_control.txt\"},\n",
    "    ),\n",
    "    Document(\n",
    "        page_content=\"鼎泰豐的服務以親切周到聞名。工作人員接受嚴格培訓，能夠用多國語言服務國際顧客。餐廳內部裝潢簡約現代，保持整潔舒適的用餐環境。\",\n",
    "        metadata={\"source\": \"service_ambiance.txt\"},\n",
    "    ),\n",
    "    Document(\n",
    "        page_content=\"鼎泰豐曾獲得米其林一星評鑑，是台灣首家進入米其林指南的餐廳。它也多次被國際媒體評為世界最佳餐廳之一，成為台灣美食外交的重要代表。\",\n",
    "        metadata={\"source\": \"awards_recognition.txt\"},\n",
    "    ),\n",
    "    Document(\n",
    "        page_content=\"鼎泰豐除了堂食，也提供外帶服務。部分分店與外送平台合作，提供送餐到府服務。公司也有自營的線上商店，販售冷凍小籠包等產品，讓顧客在家也能享受鼎泰豐美味。\",\n",
    "        metadata={\"source\": \"services_products.txt\"},\n",
    "    ),\n",
    "    Document(\n",
    "        page_content=\"鼎泰豐重視永續經營，積極採取環保措施。使用可回收包裝材料，推廣減塑行動。同時也參與社會公益，定期舉辦愛心餐會，回饋社會。\",\n",
    "        metadata={\"source\": \"sustainability_csr.txt\"},\n",
    "    ),\n",
    "]\n",
    "\n",
    "db = Chroma.from_documents(docs, embedding_function)\n",
    "retriever = db.as_retriever()"
   ]
  },
  {
   "cell_type": "code",
   "execution_count": 3,
   "metadata": {
    "id": "YqdhBZk69dwE"
   },
   "outputs": [],
   "source": [
    "# State\n",
    "class AgentState(TypedDict):\n",
    "    \"\"\"\n",
    "    Represents the state of our graph.\n",
    "\n",
    "    Attributes:\n",
    "        question: question\n",
    "        generation: LLM generation\n",
    "        web_search: whether to add search\n",
    "        documents: list of documents\n",
    "    \"\"\"\n",
    "    question: str\n",
    "    generation: str\n",
    "    web_search: str\n",
    "    documents: List[str]"
   ]
  },
  {
   "cell_type": "markdown",
   "metadata": {
    "id": "ZXe6cAjd9eGl"
   },
   "source": [
    "### 問題評分器"
   ]
  },
  {
   "cell_type": "code",
   "execution_count": 4,
   "metadata": {
    "colab": {
     "base_uri": "https://localhost:8080/"
    },
    "id": "7l9dgGfC9e4q",
    "outputId": "01155b25-e9da-43e1-bb4b-788d91fc21dd"
   },
   "outputs": [
    {
     "name": "stderr",
     "output_type": "stream",
     "text": [
      "/var/folders/yw/v6fz89fx5pd827bs1070ywr00000gn/T/ipykernel_73532/202964097.py:26: LangChainDeprecationWarning: The method `BaseRetriever.get_relevant_documents` was deprecated in langchain-core 0.1.46 and will be removed in 1.0. Use :meth:`~invoke` instead.\n",
      "  docs = retriever.get_relevant_documents(\"鼎泰豐有賣湯包嗎?\")\n"
     ]
    },
    {
     "name": "stdout",
     "output_type": "stream",
     "text": [
      "binary_score='yes'\n"
     ]
    }
   ],
   "source": [
    "class GradeQuestion(BaseModel):\n",
    "    \"\"\"用於檢查問題是否與鼎泰豐餐廳有關\"\"\"\n",
    "    binary_score: str = Field(\n",
    "        description=\"問題是否與餐廳有關? 如果是 -> 'yes' 如果不是 -> 'no'\"\n",
    "    )\n",
    "\n",
    "system = \"\"\"你是一個評分員,負責評估檢索到的文件與用戶問題的相關性。\n",
    "只有當問題是關於以下主題時才回答:\n",
    "1. 鼎泰豐的歷史和創始人資訊\n",
    "2. 鼎泰豐的菜單和特色菜品\n",
    "3. 鼎泰豐的價格範圍\n",
    "4. 鼎泰豐的營業時間和地點\n",
    "5. 鼎泰豐的用餐體驗和服務\n",
    "\n",
    "如果問題是關於這些主題,請回答\"yes\",否則回答\"no\"。\"\"\"\n",
    "\n",
    "grade_prompt = ChatPromptTemplate.from_messages([\n",
    "    (\"system\", system),\n",
    "    (\"human\", \"user question: {question}\")])\n",
    "\n",
    "llm = ChatOpenAI(model=\"gpt-4o\", temperature=0)\n",
    "structured_llm = llm.with_structured_output(GradeQuestion)\n",
    "retrieval_grader = grade_prompt | structured_llm\n",
    "\n",
    "#測試\n",
    "docs = retriever.get_relevant_documents(\"鼎泰豐有賣湯包嗎?\")\n",
    "doc_txt = docs[1].page_content\n",
    "print(retrieval_grader.invoke({\"question\": \"鼎泰豐有賣湯包嗎?\", \"document\": doc_txt}))"
   ]
  },
  {
   "cell_type": "markdown",
   "metadata": {
    "id": "VwZ-o9QHC4P7"
   },
   "source": [
    "### Retrieval Evaluator"
   ]
  },
  {
   "cell_type": "code",
   "execution_count": 5,
   "metadata": {
    "colab": {
     "base_uri": "https://localhost:8080/"
    },
    "id": "Yhih9O_oSAFP",
    "outputId": "47a2c7d0-5736-456c-cda4-d846a3a741f7"
   },
   "outputs": [
    {
     "name": "stdout",
     "output_type": "stream",
     "text": [
      "score='否'\n"
     ]
    }
   ],
   "source": [
    "class GradeDocuments(BaseModel):\n",
    "    \"\"\"用於檢查檢索到的文檔是否相關。\"\"\"\n",
    "\n",
    "    score: str = Field(\n",
    "        description=\"文檔是否與問題相關，'是' 或 '否'\"\n",
    "    )\n",
    "\n",
    "# 定義 LLM 呼叫流程\n",
    "system = \"\"\"你是一個評分員，負責評估檢索到的文檔與用戶問題的相關性。\n",
    "如果文檔包含與問題相關的關鍵詞或語義含義，請將其評為相關。\n",
    "給出評分 '是' 或 '否' 來表示文檔是否與問題相關。\"\"\"\n",
    "\n",
    "grade_prompt = ChatPromptTemplate.from_messages([\n",
    "    (\"system\", system),\n",
    "    (\"human\", \"Retrieved document: \\n\\n {document} \\n\\n User question: {question}\")])\n",
    "\n",
    "llm = ChatOpenAI(model=\"gpt-4o\", temperature=0)\n",
    "structured_llm = llm.with_structured_output(GradeDocuments)\n",
    "docs_grader_llm = grade_prompt | structured_llm\n",
    "\n",
    "result = docs_grader_llm.invoke({\n",
    "    \"document\": \"鼎泰豐菜單豐富多樣，包括招牌小籠包、各式點心、湯品、炒飯麵、蔬菜等。\",\n",
    "    \"question\": \"鼎泰豐在哪裡？\"})\n",
    "print(result)"
   ]
  },
  {
   "cell_type": "markdown",
   "metadata": {
    "id": "M9apdX_SCzWv"
   },
   "source": [
    "### Question Re-write"
   ]
  },
  {
   "cell_type": "code",
   "execution_count": 6,
   "metadata": {
    "colab": {
     "base_uri": "https://localhost:8080/"
    },
    "id": "jWE-X9ZQSsvE",
    "outputId": "d41ea4c0-d469-4347-8e13-956a80ce987f"
   },
   "outputs": [
    {
     "name": "stdout",
     "output_type": "stream",
     "text": [
      "鼎泰豐的菜單上有提供湯包嗎？\n"
     ]
    }
   ],
   "source": [
    "# 定義 LLM 呼叫流程\n",
    "system = \"\"\"你是一個問題重寫器，負責將輸入的問題轉換成更適合檢索的優化版本。\n",
    "分析輸入問題，試圖理解其潛在的語義意圖和含義。\n",
    "特別注意與鼎泰豐餐廳相關的問題，包括但不限於：\n",
    "1. 鼎泰豐的歷史和創始人資訊\n",
    "2. 鼎泰豐的菜單和特色菜品\n",
    "3. 鼎泰豐的價格範圍\n",
    "4. 鼎泰豐的營業時間和地點\n",
    "5. 鼎泰豐的用餐體驗和服務\n",
    "請根據這些主題來優化問題。\"\"\"\n",
    "\n",
    "re_write_prompt = ChatPromptTemplate.from_messages([\n",
    "    (\"system\", system),\n",
    "    (\"human\",\"Here is the initial question: \\n\\n {question} \\n Formulate an improved question.\")]\n",
    ")\n",
    "llm = ChatOpenAI(model=\"gpt-4o\", temperature=0)\n",
    "question_rewriter = re_write_prompt | llm | StrOutputParser()\n",
    "\n",
    "# 測試 Agent 運作狀況\n",
    "result = question_rewriter.invoke({\"question\": \"鼎泰豐有賣湯包嗎?\"})\n",
    "print(result)"
   ]
  },
  {
   "cell_type": "markdown",
   "metadata": {
    "id": "WaNy9ZuUDLko"
   },
   "source": [
    "### 問答 Agent"
   ]
  },
  {
   "cell_type": "code",
   "execution_count": 7,
   "metadata": {
    "colab": {
     "base_uri": "https://localhost:8080/"
    },
    "id": "ZGfY20vBS8vq",
    "outputId": "bd312d1d-5e2f-4d7b-e901-d7c5650727da"
   },
   "outputs": [
    {
     "name": "stdout",
     "output_type": "stream",
     "text": [
      "根據提供的資訊，鼎泰豐以小籠包聞名，並沒有提到湯包。因此，無法確定鼎泰豐是否有賣湯包。\n"
     ]
    }
   ],
   "source": [
    "template = \"\"\"Answer the question based only on the following context:{context}\n",
    "\n",
    "Question: {question}\n",
    "\"\"\"\n",
    "\n",
    "prompt = ChatPromptTemplate.from_template(template=template)\n",
    "rag_chain = prompt | llm | StrOutputParser()\n",
    "\n",
    "# 測試 Agent 運作狀況\n",
    "generation = rag_chain.invoke({\n",
    "    \"question\": \"鼎泰豐有賣湯包嗎?\",\n",
    "    \"context\": \"鼎泰豐的小籠包以皮薄餡多聞名，每個小籠包都有 18 個摺子，內餡使用精選豬肉，湯汁豐富。鼎泰豐堅持手工製作，確保每一顆小籠包都維持高品質。\"\n",
    "})\n",
    "print(generation)"
   ]
  },
  {
   "cell_type": "markdown",
   "metadata": {
    "id": "Wy3pDhrdKHST"
   },
   "source": [
    "## 網路檢索工具"
   ]
  },
  {
   "cell_type": "code",
   "execution_count": 8,
   "metadata": {
    "id": "eqaoO5uAKJlE"
   },
   "outputs": [],
   "source": [
    "web_search_tool = TavilySearchResults(k=3)"
   ]
  },
  {
   "cell_type": "markdown",
   "metadata": {
    "id": "b3Ltzyca9fJb"
   },
   "source": [
    "### 定義節點函數以及 Agent"
   ]
  },
  {
   "cell_type": "code",
   "execution_count": 9,
   "metadata": {
    "id": "xzshIdBR9gss"
   },
   "outputs": [],
   "source": [
    "def retrieve(state):\n",
    "    print(\"--- RETRIEVE ---\")\n",
    "    question = state[\"question\"]\n",
    "    # Retrieval\n",
    "    documents = retriever.get_relevant_documents(question)\n",
    "    return {\"documents\": documents, \"question\": question}\n",
    "\n",
    "\n",
    "def generate(state):\n",
    "    print(\"--- GENERATE ---\")\n",
    "    question = state[\"question\"]\n",
    "    documents = state[\"documents\"]\n",
    "\n",
    "    # RAG generation\n",
    "    generation = rag_chain.invoke({\"context\": documents, \"question\": question})\n",
    "    return {\"documents\": documents, \"question\": question, \"generation\": generation}\n",
    "\n",
    "\n",
    "def grade_documents(state):\n",
    "    print(\"--- CHECK DOCUMENT RELEVANCE TO QUESTION ---\")\n",
    "    question = state[\"question\"]\n",
    "    documents = state[\"documents\"]\n",
    "\n",
    "    # Score each doc\n",
    "    filtered_docs = []\n",
    "    web_search = \"No\"\n",
    "    for d in documents:\n",
    "        score = retrieval_grader.invoke(\n",
    "            {\"question\": question, \"document\": d.page_content}\n",
    "        )\n",
    "        grade = score.binary_score\n",
    "        if grade == \"yes\":\n",
    "            print(\"--- GRADE: DOCUMENT RELEVANT ---\")\n",
    "            filtered_docs.append(d)\n",
    "        else:\n",
    "            print(\"--- GRADE: DOCUMENT NOT RELEVANT ---\")\n",
    "            web_search = \"Yes\"\n",
    "            continue\n",
    "    return {\"documents\": filtered_docs, \"question\": question, \"web_search\": web_search}\n",
    "\n",
    "\n",
    "def transform_query(state):\n",
    "    print(\"--- RE-WRITE QUERY ---\")\n",
    "    question = state[\"question\"]\n",
    "    documents = state[\"documents\"]\n",
    "\n",
    "    better_question = question_rewriter.invoke({\"question\": question})\n",
    "    return {\"documents\": documents, \"question\": better_question}\n",
    "\n",
    "\n",
    "def web_search(state):\n",
    "    print(\"--- WEB SEARCH ---\")\n",
    "    question = state[\"question\"]\n",
    "    documents = state[\"documents\"]\n",
    "\n",
    "    # Web search\n",
    "    docs = web_search_tool.invoke({\"query\": question})\n",
    "    web_results = \"\\n\".join([d[\"content\"] for d in docs])\n",
    "    web_results = Document(page_content=web_results)\n",
    "    documents.append(web_results)\n",
    "\n",
    "    return {\"documents\": documents, \"question\": question}\n",
    "\n",
    "\n",
    "### Edges\n",
    "def decide_to_generate(state):\n",
    "    print(\"--- ASSESS GRADED DOCUMENTS ---\")\n",
    "    state[\"question\"]\n",
    "    web_search = state[\"web_search\"]\n",
    "    state[\"documents\"]\n",
    "\n",
    "    if web_search == \"Yes\":\n",
    "        print(\"--- DECISION: Re-WRITE ---\")\n",
    "        return \"transform_query\"\n",
    "    else:\n",
    "        print(\"--- DECISION: GENERATE ---\")\n",
    "        return \"generate\""
   ]
  },
  {
   "cell_type": "markdown",
   "metadata": {
    "id": "DsXjfWB49hK7"
   },
   "source": [
    "### 構建圖"
   ]
  },
  {
   "cell_type": "code",
   "execution_count": 10,
   "metadata": {
    "id": "9JlOMVaU9iYP"
   },
   "outputs": [],
   "source": [
    "workflow = StateGraph(AgentState)\n",
    "\n",
    "# Define the nodes\n",
    "workflow.add_node(\"retrieve\", retrieve)  # retrieve\n",
    "workflow.add_node(\"grade_documents\", grade_documents)  # grade documents\n",
    "workflow.add_node(\"generate\", generate)  # generatae\n",
    "workflow.add_node(\"transform_query\", transform_query)  # transform_query\n",
    "workflow.add_node(\"web_search_node\", web_search)  # web search\n",
    "\n",
    "# Build graph\n",
    "workflow.add_edge(START, \"retrieve\")\n",
    "workflow.add_edge(\"retrieve\", \"grade_documents\")\n",
    "workflow.add_conditional_edges(\n",
    "    \"grade_documents\",\n",
    "    decide_to_generate,\n",
    "    {\n",
    "        \"transform_query\": \"transform_query\",\n",
    "        \"generate\": \"generate\",\n",
    "    },\n",
    ")\n",
    "workflow.add_edge(\"transform_query\", \"web_search_node\")\n",
    "workflow.add_edge(\"web_search_node\", \"generate\")\n",
    "workflow.add_edge(\"generate\", END)\n",
    "\n",
    "# Compile\n",
    "app = workflow.compile()"
   ]
  },
  {
   "cell_type": "markdown",
   "metadata": {
    "id": "hddhmCr79ixe"
   },
   "source": [
    "### 可視化整張圖"
   ]
  },
  {
   "cell_type": "code",
   "execution_count": 11,
   "metadata": {
    "colab": {
     "base_uri": "https://localhost:8080/",
     "height": 647
    },
    "id": "pTqjfCKT9k3M",
    "outputId": "1bb3fdbc-d79c-4639-fdc2-4222e19545a8"
   },
   "outputs": [
    {
     "data": {
      "image/png": "[encoded data removed]",
      "text/plain": [
       "<IPython.core.display.Image object>"
      ]
     },
     "metadata": {},
     "output_type": "display_data"
    }
   ],
   "source": [
    "from IPython.display import Image, display\n",
    "\n",
    "try:\n",
    "    display(Image(app.get_graph(xray=True).draw_mermaid_png()))\n",
    "except:\n",
    "    pass"
   ]
  },
  {
   "cell_type": "markdown",
   "metadata": {
    "id": "MjG-AsKC9lJU"
   },
   "source": [
    "### Inference"
   ]
  },
  {
   "cell_type": "code",
   "execution_count": 14,
   "metadata": {
    "colab": {
     "base_uri": "https://localhost:8080/"
    },
    "id": "JC1FTHxw9mRe",
    "outputId": "dd0e5d8e-8ec5-41b6-a598-4530d4fc32c6"
   },
   "outputs": [
    {
     "name": "stdout",
     "output_type": "stream",
     "text": [
      "--- RETRIEVE ---\n",
      "--- CHECK DOCUMENT RELEVANCE TO QUESTION ---\n",
      "--- GRADE: DOCUMENT NOT RELEVANT ---\n",
      "--- GRADE: DOCUMENT NOT RELEVANT ---\n",
      "--- GRADE: DOCUMENT NOT RELEVANT ---\n",
      "--- GRADE: DOCUMENT NOT RELEVANT ---\n",
      "--- ASSESS GRADED DOCUMENTS ---\n",
      "--- DECISION: Re-WRITE ---\n",
      "--- RE-WRITE QUERY ---\n",
      "--- WEB SEARCH ---\n",
      "--- GENERATE ---\n"
     ]
    },
    {
     "data": {
      "text/plain": [
       "{'question': '今年的世界棒球12強賽的最終排名是怎樣的？',\n",
       " 'generation': '今年的世界棒球12強賽中，台灣隊奪得冠軍，最終排名第一。日本隊在冠軍賽中被台灣以4:0完封，位居第二。委內瑞拉則在12強賽中取得隊史最佳的第四名，排名上升到第三名。墨西哥未能進入四強複賽，排名被擠到第四名。',\n",
       " 'web_search': 'Yes',\n",
       " 'documents': [Document(metadata={}, page_content=\"台灣隊在世界12強棒球賽奪得佳績，最終冠軍賽以4:0完封日本，一舉拿下世界冠軍，寫下新歷史。對此，世界棒壘球總會 （WBSC）公布男子棒球世界最新排名，台灣隊位居第二，且與世界排名第一的日本隊差距再縮小。 ... 荷蘭聖馬丁在今年的第五屆加勒比海棒球\\n12強世界棒球賽圓滿落幕，中華隊將士用命、擊敗日本奪下金牌，而世界棒壘球總會（wbsc）在公布最新的世界棒球排名，穩居首位的仍是日本，台灣\\n世界12強》WBSC公布最新排名 中華隊奪冠積分進補！甩下墨西哥獨居世界第二 世界棒壘球總會（WBSC）今天（28日）公布最新棒球世界排名，中華隊在剛結束的12強賽抱走冠軍、積分大進補，也因此在最新一期的排名甩掉墨西哥，獨居世界第二。 世界12強棒球賽中華隊抱走冠軍金盃。圖片來源：中華棒協提供 國際三大賽事（經典賽、12強賽、奧運）之中，12強賽的積分最高，冠軍可進帳1380分，有些弔詭的是，強度更高的經典賽冠軍只有1150分，原因在於主導經典賽的MLB不放行40人名單球員參與12強賽，WBSC只好以積分差異反制。 根據WBSC官網發布的資訊，中華隊獲得冠軍後進帳1380分，全年積分增長2135分，僅次於日本的2449分，整體排名台灣甩掉原本並列的墨西哥、獨居第二，與龍頭日本的差距也從1638分縮小到1368分。 最新世界棒球排名。圖片來源：WBSC 墨西哥在本屆12強未能前進四強複賽，不只第二名位子不保，還被擠到第四名，另一支中南美洲強權委內瑞拉則在12強奪下隊史最佳的第四名，這也讓他們排名一口氣上升兩位，來到史上最好的第三名，而且自2021年6月以來，委內瑞拉從第11名上升到第3名。 下一屆世界棒球12強即將改制，除了原本就有參賽資格的世界前12名隊伍，還有8支球隊要打資格賽、爭奪4張正賽門票，多明尼加和澳洲打完本屆12強後重返第11、12名，第13、14、15名的哥倫比亞、義大利和捷克也緊追在後，差距35分、262分、446分；而第20名席位同樣競爭激烈，第20名的中國和24名的西班牙，積分差距僅有78分。 最新報導 [NOWnews今日新聞]NBA金州勇士今(6)日將坐鎮大通中心（ChaseCenter）球場迎戰火箭。然而亟欲擺脫五連敗低潮的勇士，卻因傷病問題，雪上加霜。根據美國媒體報導，核心球員StephenC... 正在義大利威尼斯舉行的2024 WKF 青少年K1空手道錦標賽(2024 Karate 1 Youth League)中傳出佳績！亞運金牌女將谷筱霜師妹詹心妤在U21 50公斤級金牌中僅僅以1 比0力克先前曾打敗過她的克羅埃西亞選手絲加迪里(Ema Sgardelli)後，成功摘下中華隊本屆賽事的首面金牌，也成為名符其實的谷筱霜的接班人！WKF 青少年K1空手道錦標賽今年共吸引了創紀錄最多達81國4000多人參賽的紀錄，每個男女量級人數都爆多到100人左右，來自台北市立大學的4名選手包括詹心妤(女子對打-50)、田欣兒(女子對打-55)、徐立緯(男子對打-60)和李文笙（男子對打-84），其中女子的成績更優於男子。在U21女子50公斤中共有多達96人參賽，來自北市大的詹心妤防守有如銅牆鐵壁，前四場完全都沒讓對手拿到分數下，分別以10比0勝英格蘭、5比0勝義大利、6比0勝西班牙和1比0勝波士尼亞，一直到4強賽才被智利選手拿下1分，但最終仍然以9比1獲勝，金牌戰更是以1比0驚險的打敗克羅埃西亞的絲加迪里後，最終才順利為中華隊拿下第一金！對於自己的表現，詹心妤說：「這次狀態是所有比賽中最好的 基隆市府將成立SBL在地籃球隊，明年起每年編列3千萬、執行3年，預算3日獲議會通過。議長童子瑋向市長喊話「請你花在刀口上」，城市球隊雖有吸引力，但基層環境不夠好也難培養人才。謝表示，外界會贊助、... 中華隊在世界棒球十二強賽奪得冠軍，選手江國豪、陳冠偉都畢業自彰化藝術高中棒球隊，彰化縣長王惠美特聘兩人擔任彰化棒球指導教練，昨與各校棒球隊員分享。江國豪說，遇到挫折要勇於突破那道牆，不放棄才能成... Curious about your home's market value? Use our quick, reliable tool to get an accurate assessment instantly. Start your property journey with... 中國信託慈善基金會本周三赴對岸的浙江省嵊州市三界鎮中心小學，舉行「中國關心下一代教育基地」第六十所基地校揭牌儀式，同時捐贈人民幣五十萬元，用於興建棒壘球場地與打擊練習場，預估近千名學生受惠。 中... 中華隊在今年世界十二強棒球賽拿下冠軍，下一步要放眼明年二月舉行的世界棒球經典賽資格賽，總教練曾豪駒預計繼續帶領教練團續戰，王建民已經點頭，旅外選手也有機會加入陣容，鄭宗哲、陳柏毓透露意願。 負責... 國立體育大學5日在UBA大專籃球聯賽公開男一級預賽第二階段對上還在尋求首勝的中原大學，雖然首節陷入落後，但飆分好手張祐瑋攜手外線射手林睿軒內外開火，國體在第3節拉出24：9的猛攻，一波流鎖定勝利，終場就以89：58擊敗中原，豪取4連勝，而休兵一天後，就將碰上強敵健行科大，讓轟下20分的張祐瑋相當期待，希望能跟泰山高中學長、健行一哥劉丞勳來場頂尖對決。 Whatever your gifting M.O., these items will surprise and delight. 高雄師範大學5日在UBA大專籃球聯賽公開男一級預賽第二階段交手臺灣體育大學，兩隊從開賽就打得難分難解，最末節雙方共有5位球員犯滿畢業，然而上半場領先的臺體大末節關鍵6罰僅1中，反觀高師大，王語烽、江品諺合送10抄截，替補上陣的林靖瑱轟下23分、成家帆關鍵時刻砍進2顆逆轉三分球，加上臺體大自亂陣腳發生多次失誤，終場高師大就以70：67擊敗臺體大，預賽也終於開胡。 亞太聽障運動會今天在桌球場上演兩岸對決，我國男子雙打組合楊榮宗／盧仕杰連克蒙古、哈薩克及中國大陸組合，一路過關斬將闖入決賽，只可惜金牌戰面對另一組實力更強的大陸組合，局局纏鬥至最後關頭都未能拿下... 中華隊在世界棒球12強賽奪冠軍、拿金牌，台灣英雄團凱旋歸國後，更多粉絲想了解他們的生活及未來規劃。其中因包手刺青引發討論的林昱珉，因先發主投表現優異，前景備受各界看好。根據《自由時報》採訪得知近況，原來林昱珉快當爸爸了！他透露，女兒預計12月中旬出生，人生將邁入下一個階段，讓他更有動力拚上大聯盟。林昱珉還提到，跟老婆從幼稚園就相識，是青梅竹馬。讓人聯想到安達充漫畫的男女主角。 Don’t Risk Losing Your Important Files - With These Top Searches 【羅開新聞中心Minsey Weng綜合報導】時序來到十二月，各大巡迴賽陸續封關，世巡賽甚至已經在南半球展開三場新球季行程，包括本週的Nedbank Golf Challeng #緯來體育台 #緯來運動STUDIO #體育 #運動 - 追蹤 訂閱 緯來體育台相關平台讓你體育消息不間斷 更多好康有趣的都在這 ! ✎緯來體育台Instagram【https://bit.ly/2MdtZqq 】 ✎緯來體育台官方粉絲團【https://www.facebook.com/vlsports 】 ✎緯來體育台LINE官方帳號【https://goo.gl/bb7hsc 】 ✎緯來體育台YouTube頻道【https://goo.gl/kEcPb9 】 ✎緯來體育台Twitch頻道一台【 https://twitch.tv/vlsportofficial 】 ✎緯來體育台Twitch頻道二台【 https://twitch.tv/vlsportofficial1】 #緯來體育台 #緯來運動STUDIO #體育 #運動 - 追蹤 訂閱 緯來體育台相關平台讓你體育消息不間斷 更多好康有趣的都在這 ! 【羅開新聞中心Minsey Weng綜合報導】有沒有發現，2023-24年的世巡賽行程表中少了Nedbank Golf Challenge（萊利銀行挑戰賽），不過這場著名的\\n世界棒壘球總會（WBSC）於今（28）日公布最新男子棒球世界排名，台灣在世界12強棒球賽拿到全球冠軍後，以積分5498分獨居第2名，仍落後以6866分在\\n世界12強結束，世界棒壘球總會（WBSC）在今天更新了最新的男子棒球世界排名，日本持續高居第一，而在12強台灣則超越墨西哥獨居第二，委內瑞拉\")]}"
      ]
     },
     "execution_count": 14,
     "metadata": {},
     "output_type": "execute_result"
    }
   ],
   "source": [
    "result = app.invoke({\"question\": \"你知道今年世界棒球 12 強賽排名是什麼？\"})\n",
    "result"
   ]
  },
  {
   "cell_type": "code",
   "execution_count": 13,
   "metadata": {
    "colab": {
     "base_uri": "https://localhost:8080/"
    },
    "id": "6vAQ3x8eFi_3",
    "outputId": "8bc2f82e-20bb-4081-d6c5-af49e0a9197b"
   },
   "outputs": [
    {
     "name": "stdout",
     "output_type": "stream",
     "text": [
      "--- RETRIEVE ---\n",
      "--- CHECK DOCUMENT RELEVANCE TO QUESTION ---\n",
      "--- GRADE: DOCUMENT RELEVANT ---\n",
      "--- GRADE: DOCUMENT RELEVANT ---\n",
      "--- GRADE: DOCUMENT RELEVANT ---\n",
      "--- GRADE: DOCUMENT RELEVANT ---\n",
      "--- ASSESS GRADED DOCUMENTS ---\n",
      "--- DECISION: GENERATE ---\n",
      "--- GENERATE ---\n"
     ]
    },
    {
     "data": {
      "text/plain": [
       "{'question': '鼎泰豐有賣小籠包嗎？',\n",
       " 'generation': '有，鼎泰豐有賣小籠包。小籠包是鼎泰豐最受歡迎的招牌菜品。',\n",
       " 'web_search': 'No',\n",
       " 'documents': [Document(metadata={'source': 'signature_dish.txt'}, page_content='鼎泰豐的小籠包以18摺聞名，每個摺都代表著精湛的手藝。小籠包皮薄餡多，內有鮮美湯汁，是鼎泰豐最受歡迎的招牌菜品。每天現場手工製作，確保新鮮品質。'),\n",
       "  Document(metadata={'source': 'pricing_info.txt'}, page_content='鼎泰豐的價格範圍適中，滿足不同消費需求。小籠包每籠（10個）約180-220元，主菜價格從250元到500元不等。套餐選擇豐富，單人套餐約500-700元，雙人套餐約1000-1500元。'),\n",
       "  Document(metadata={'source': 'services_products.txt'}, page_content='鼎泰豐除了堂食，也提供外帶服務。部分分店與外送平台合作，提供送餐到府服務。公司也有自營的線上商店，販售冷凍小籠包等產品，讓顧客在家也能享受鼎泰豐美味。'),\n",
       "  Document(metadata={'source': 'menu_items.txt'}, page_content='鼎泰豐菜單豐富多樣，除了招牌小籠包外，還有蝦仁燒賣、雞湯餛飩、菜肉餛飩、排骨煨麵、韭黃蝦仁、蛋炒飯等經典菜色。素食選擇包括素小籠包、素蒸餃和各式蔬菜料理。')]}"
      ]
     },
     "execution_count": 13,
     "metadata": {},
     "output_type": "execute_result"
    }
   ],
   "source": [
    "result = app.invoke({\"question\": \"鼎泰豐有賣小籠包嗎？\"})\n",
    "result"
   ]
  },
  {
   "cell_type": "code",
   "execution_count": null,
   "metadata": {
    "id": "G2zFQvFgK_Dm"
   },
   "outputs": [],
   "source": []
  }
 ],
 "metadata": {
  "colab": {
   "collapsed_sections": [
    "9H7cb1Gi8YpF"
   ],
   "provenance": [],
   "toc_visible": true
  },
  "kernelspec": {
   "display_name": "langgraph",
   "language": "python",
   "name": "python3"
  },
  "language_info": {
   "codemirror_mode": {
    "name": "ipython",
    "version": 3
   },
   "file_extension": ".py",
   "mimetype": "text/x-python",
   "name": "python",
   "nbconvert_exporter": "python",
   "pygments_lexer": "ipython3",
   "version": "3.12.7"
  }
 },
 "nbformat": 4,
 "nbformat_minor": 0
}
