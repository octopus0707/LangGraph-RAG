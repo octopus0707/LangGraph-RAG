{
 "cells": [
  {
   "cell_type": "markdown",
   "metadata": {},
   "source": [
    "### 安裝套件"
   ]
  },
  {
   "cell_type": "code",
   "execution_count": 2,
   "metadata": {},
   "outputs": [],
   "source": [
    "from typing import Annotated\n",
    "from typing_extensions import TypedDict\n",
    "from langgraph.graph import StateGraph, START, END\n",
    "from langgraph.graph.message import add_messages\n",
    "from langchain_openai import ChatOpenAI\n",
    "from langchain.prompts import ChatPromptTemplate\n",
    "from IPython.display import Image, display\n",
    "import os\n",
    "from dotenv import load_dotenv\n",
    "load_dotenv(override=True)\n",
    "\n",
    "os.environ[\"OPENAI_API_KEY\"] = os.getenv(\"OPENAI_API_KEY\")"
   ]
  },
  {
   "cell_type": "markdown",
   "metadata": {},
   "source": [
    "### 建立 State"
   ]
  },
  {
   "cell_type": "code",
   "execution_count": 3,
   "metadata": {},
   "outputs": [],
   "source": [
    "# State：共享筆記本看目前的狀態\n",
    "class State(TypedDict):\n",
    "    # Messages have the type \"list\". \n",
    "    # The `add_messages` function in the annotation defines how this state key should be updated\n",
    "    # (in this case, it appends messages to the list, rather than overwriting them)\n",
    "    messages: Annotated[list, add_messages]\n"
   ]
  },
  {
   "cell_type": "markdown",
   "metadata": {},
   "source": [
    "- 每個 Node 都應該取得前一個 state 為 input，並更新 State\n",
    "- State 將過程中的 messages append 紀錄起來，保留過去所有狀態"
   ]
  },
  {
   "cell_type": "markdown",
   "metadata": {},
   "source": [
    "### 建立 Node"
   ]
  },
  {
   "cell_type": "code",
   "execution_count": 4,
   "metadata": {},
   "outputs": [],
   "source": [
    "model = ChatOpenAI(temperature=0.4)\n",
    "prompt_str = \"\"\"You are given one question and you have to extract city name from it\n",
    "Don't respond anything except the city name and don't reply anything if you can't find city name\n",
    "Only reply the city name if it exists or reply 'no_response' if there is no city name in question\n",
    "\n",
    "Here is the question:{user_query}\n",
    "\"\"\"\n",
    "prompt = ChatPromptTemplate.from_template(prompt_str)\n",
    "\n",
    "chain = prompt | model\n",
    "res = chain.invoke({\"user_query\": \"請問高雄天氣如何?\"})\n",
    "res.content\n",
    "\n",
    "def call_model(state: State):\n",
    "    messages = state[\"messages\"]\n",
    "    response = chain.invoke(messages)\n",
    "    return {\"messages\": [response]}"
   ]
  },
  {
   "cell_type": "code",
   "execution_count": 5,
   "metadata": {},
   "outputs": [],
   "source": [
    "def get_taiwan_weather(city: str) -> str:\n",
    "    \"\"\"查詢台灣特定城市的天氣狀況。\"\"\"\n",
    "    weather_data = {\n",
    "        \"台北\": \"晴天，溫度28°C\",\n",
    "        \"台中\": \"多雲，溫度26°C\",\n",
    "        \"高雄\": \"陰天，溫度30°C\"\n",
    "    }\n",
    "    return f\"{city}的天氣：{weather_data.get(city)}\"\n",
    "\n",
    "res = get_taiwan_weather(res.content)\n",
    "res\n",
    "\n",
    "def weather_tool(state):\n",
    "  context = state[\"messages\"]\n",
    "  city_name = context[1].content\n",
    "  data = get_taiwan_weather(city_name)\n",
    "  return {\"messages\": [data]}"
   ]
  },
  {
   "cell_type": "code",
   "execution_count": 6,
   "metadata": {},
   "outputs": [],
   "source": [
    "def query_classify(state: State):\n",
    "  messages = state[\"messages\"]\n",
    "  ctx = messages[-1]\n",
    "  if ctx.content.startswith(\"no_response\"):\n",
    "    return \"end\"\n",
    "  else:\n",
    "    return \"continue\""
   ]
  },
  {
   "cell_type": "code",
   "execution_count": 7,
   "metadata": {},
   "outputs": [],
   "source": [
    "model = ChatOpenAI(temperature=0.4)\n",
    "response_prompt_str = \"\"\"You have given a weather information and you have to respond to user's query based on the information.\n",
    "---\n",
    "Here is the user query: {user_query}\n",
    "Here is the information: {information}\n",
    "---\n",
    "Answer:\"\"\"\n",
    "response_prompt = ChatPromptTemplate.from_template(response_prompt_str)\n",
    "response_chain = response_prompt | model\n",
    "\n",
    "def responder(state: State):\n",
    "    messages = state[\"messages\"]\n",
    "    response = response_chain.invoke({\n",
    "        \"user_query\": messages[0],\n",
    "        \"information\": messages[-1]\n",
    "    })\n",
    "    return {\"messages\": [response]}"
   ]
  },
  {
   "cell_type": "code",
   "execution_count": 8,
   "metadata": {},
   "outputs": [],
   "source": [
    "graph_builder = StateGraph(State)\n",
    "\n",
    "graph_builder.add_node(\"agent\", call_model)\n",
    "graph_builder.add_node(\"weather\", weather_tool)\n",
    "graph_builder.add_node(\"responder\", responder)\n",
    "\n",
    "graph_builder.add_edge(START, \"agent\")\n",
    "\n",
    "# Create an conditional edge\n",
    "graph_builder.add_conditional_edges('agent', query_classify, {\n",
    "    \"end\": \"responder\",\n",
    "    \"continue\": \"weather\"\n",
    "})\n",
    "graph_builder.add_edge(\"weather\", \"responder\")\n",
    "graph_builder.add_edge(\"responder\", END)\n",
    "\n",
    "app = graph_builder.compile()"
   ]
  },
  {
   "cell_type": "code",
   "execution_count": 9,
   "metadata": {},
   "outputs": [
    {
     "data": {
      "image/png": "[encoded data removed]",
      "text/plain": [
       "<IPython.core.display.Image object>"
      ]
     },
     "metadata": {},
     "output_type": "display_data"
    }
   ],
   "source": [
    "try:\n",
    "    display(Image(app.get_graph().draw_mermaid_png()))\n",
    "except Exception:\n",
    "    pass"
   ]
  },
  {
   "cell_type": "code",
   "execution_count": 10,
   "metadata": {},
   "outputs": [],
   "source": [
    "inputs = {\"messages\": [\"想知道高雄天氣如何？\"]}"
   ]
  },
  {
   "cell_type": "code",
   "execution_count": 11,
   "metadata": {},
   "outputs": [
    {
     "name": "stdout",
     "output_type": "stream",
     "text": [
      "Output from node 'agent':\n",
      "{'messages': [AIMessage(content='高雄', additional_kwargs={'refusal': None}, response_metadata={'token_usage': {'completion_tokens': 3, 'prompt_tokens': 120, 'total_tokens': 123, 'completion_tokens_details': {'accepted_prediction_tokens': 0, 'audio_tokens': 0, 'reasoning_tokens': 0, 'rejected_prediction_tokens': 0}, 'prompt_tokens_details': {'audio_tokens': 0, 'cached_tokens': 0}}, 'model_name': 'gpt-3.5-turbo-0125', 'system_fingerprint': None, 'finish_reason': 'stop', 'logprobs': None}, id='run-c13b9d95-0a3b-4ce2-acde-a653c0a7aeea-0', usage_metadata={'input_tokens': 120, 'output_tokens': 3, 'total_tokens': 123, 'input_token_details': {'audio': 0, 'cache_read': 0}, 'output_token_details': {'audio': 0, 'reasoning': 0}})]}\n",
      "Output from node 'weather':\n",
      "{'messages': ['高雄的天氣：陰天，溫度30°C']}\n",
      "Output from node 'responder':\n",
      "{'messages': [AIMessage(content='高雄的天氣是陰天，溫度為30°C。', additional_kwargs={'refusal': None}, response_metadata={'token_usage': {'completion_tokens': 21, 'prompt_tokens': 141, 'total_tokens': 162, 'completion_tokens_details': {'accepted_prediction_tokens': 0, 'audio_tokens': 0, 'reasoning_tokens': 0, 'rejected_prediction_tokens': 0}, 'prompt_tokens_details': {'audio_tokens': 0, 'cached_tokens': 0}}, 'model_name': 'gpt-3.5-turbo-0125', 'system_fingerprint': None, 'finish_reason': 'stop', 'logprobs': None}, id='run-cd267958-5bd4-4ffd-a976-231650375724-0', usage_metadata={'input_tokens': 141, 'output_tokens': 21, 'total_tokens': 162, 'input_token_details': {'audio': 0, 'cache_read': 0}, 'output_token_details': {'audio': 0, 'reasoning': 0}})]}\n"
     ]
    }
   ],
   "source": [
    "for output in app.stream(inputs):\n",
    "    for key, value in output.items():\n",
    "        print(f\"Output from node '{key}':\")\n",
    "        print(value)"
   ]
  },
  {
   "cell_type": "code",
   "execution_count": 12,
   "metadata": {},
   "outputs": [
    {
     "name": "stdout",
     "output_type": "stream",
     "text": [
      "Output from node 'agent':\n",
      "{'messages': [AIMessage(content='no_response', additional_kwargs={'refusal': None}, response_metadata={'token_usage': {'completion_tokens': 2, 'prompt_tokens': 119, 'total_tokens': 121, 'completion_tokens_details': {'accepted_prediction_tokens': 0, 'audio_tokens': 0, 'reasoning_tokens': 0, 'rejected_prediction_tokens': 0}, 'prompt_tokens_details': {'audio_tokens': 0, 'cached_tokens': 0}}, 'model_name': 'gpt-3.5-turbo-0125', 'system_fingerprint': None, 'finish_reason': 'stop', 'logprobs': None}, id='run-288f93e7-0e85-4789-95a9-c2fb311ad07e-0', usage_metadata={'input_tokens': 119, 'output_tokens': 2, 'total_tokens': 121, 'input_token_details': {'audio': 0, 'cache_read': 0}, 'output_token_details': {'audio': 0, 'reasoning': 0}})]}\n",
      "Output from node 'responder':\n",
      "{'messages': [AIMessage(content='抱歉，根據提供的信息，我無法回答關於李多慧的問題。', additional_kwargs={'refusal': None}, response_metadata={'token_usage': {'completion_tokens': 35, 'prompt_tokens': 311, 'total_tokens': 346, 'completion_tokens_details': {'accepted_prediction_tokens': 0, 'audio_tokens': 0, 'reasoning_tokens': 0, 'rejected_prediction_tokens': 0}, 'prompt_tokens_details': {'audio_tokens': 0, 'cached_tokens': 0}}, 'model_name': 'gpt-3.5-turbo-0125', 'system_fingerprint': None, 'finish_reason': 'stop', 'logprobs': None}, id='run-30cf1c1b-3dcb-4ea7-aea0-30494a58c3e8-0', usage_metadata={'input_tokens': 311, 'output_tokens': 35, 'total_tokens': 346, 'input_token_details': {'audio': 0, 'cache_read': 0}, 'output_token_details': {'audio': 0, 'reasoning': 0}})]}\n"
     ]
    }
   ],
   "source": [
    "inputs = {\"messages\": [\"請問誰是李多慧？\"]}\n",
    "for output in app.stream(inputs):\n",
    "    for key, value in output.items():\n",
    "        print(f\"Output from node '{key}':\")\n",
    "        print(value)"
   ]
  },
  {
   "cell_type": "code",
   "execution_count": null,
   "metadata": {},
   "outputs": [],
   "source": []
  }
 ],
 "metadata": {
  "kernelspec": {
   "display_name": "langgraph",
   "language": "python",
   "name": "python3"
  },
  "language_info": {
   "codemirror_mode": {
    "name": "ipython",
    "version": 3
   },
   "file_extension": ".py",
   "mimetype": "text/x-python",
   "name": "python",
   "nbconvert_exporter": "python",
   "pygments_lexer": "ipython3",
   "version": "3.12.7"
  }
 },
 "nbformat": 4,
 "nbformat_minor": 2
}
